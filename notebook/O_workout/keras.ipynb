{
 "cells": [
  {
   "cell_type": "code",
   "execution_count": 2,
   "id": "34ad176c",
   "metadata": {},
   "outputs": [],
   "source": [
    "import numpy as np\n",
    "import pandas as pd\n",
    "import matplotlib as plt\n",
    "import seaborn as sb\n",
    "import sklearn as sk\n",
    "import tensorflow as tf\n",
    "from tensorflow import keras"
   ]
  },
  {
   "cell_type": "markdown",
   "id": "6347874a",
   "metadata": {},
   "source": [
    "# Keras"
   ]
  },
  {
   "cell_type": "markdown",
   "id": "7db8c16b",
   "metadata": {},
   "source": [
    " - Machine Learning Library\n",
    " - High level Wrapper\n",
    " - Work with Tensorfloe,CNTK,Theano (default tensorflow)\n",
    " - Helpful data Transformers\n",
    " - Functional API's\n",
    " - Hyper parameters for model tuning\n",
    " - GPU support for faster training"
   ]
  },
  {
   "cell_type": "markdown",
   "id": "c9d77eef",
   "metadata": {},
   "source": [
    "# Change Backend"
   ]
  },
  {
   "cell_type": "code",
   "execution_count": 3,
   "id": "37fe5776",
   "metadata": {},
   "outputs": [],
   "source": [
    "import os\n",
    "os.environ['KERAS_BACKEND'] = 'theano'"
   ]
  },
  {
   "cell_type": "code",
   "execution_count": 4,
   "id": "89300c8e",
   "metadata": {},
   "outputs": [],
   "source": [
    "os.environ['KERAS_BACKEND'] = 'tensorflow'"
   ]
  },
  {
   "cell_type": "markdown",
   "id": "5fafb808",
   "metadata": {},
   "source": [
    "# Data Loading"
   ]
  },
  {
   "cell_type": "markdown",
   "id": "ed2d52d4",
   "metadata": {},
   "source": [
    "- Numpy Arrays\n",
    "- Tensorflow Dataset Objects\n",
    "- Python Generators"
   ]
  },
  {
   "cell_type": "markdown",
   "id": "2c364490",
   "metadata": {},
   "source": [
    "# Image Classification"
   ]
  },
  {
   "cell_type": "code",
   "execution_count": 5,
   "id": "eb340d7a",
   "metadata": {},
   "outputs": [],
   "source": [
    "import tensorflow as tf\n",
    "from tensorflow import keras\n",
    "from tensorflow.keras import layers"
   ]
  },
  {
   "cell_type": "markdown",
   "id": "d3da1e22",
   "metadata": {},
   "source": [
    "# Data Download"
   ]
  },
  {
   "cell_type": "code",
   "execution_count": null,
   "id": "493d6eee",
   "metadata": {},
   "outputs": [],
   "source": []
  },
  {
   "cell_type": "code",
   "execution_count": 6,
   "id": "9a432877",
   "metadata": {},
   "outputs": [
    {
     "name": "stdout",
     "output_type": "stream",
     "text": [
      "unzip:  cannot find or open kagglecatssanddogs_3367a.zip, kagglecatssanddogs_3367a.zip.zip or kagglecatssanddogs_3367a.zip.ZIP.\n",
      "Matplotlib.ipynb     Pandas.ipynb         keras.ipynb\n",
      "Numpy.ipynb          Untitled.ipynb       own_mat_scikit.ipynb\n"
     ]
    }
   ],
   "source": [
    "!unzip -q kagglecatssanddogs_3367a.zip\n",
    "!ls"
   ]
  },
  {
   "cell_type": "code",
   "execution_count": null,
   "id": "5608faca",
   "metadata": {},
   "outputs": [],
   "source": [
    "cd"
   ]
  }
 ],
 "metadata": {
  "kernelspec": {
   "display_name": "Python 3",
   "language": "python",
   "name": "python3"
  },
  "language_info": {
   "codemirror_mode": {
    "name": "ipython",
    "version": 3
   },
   "file_extension": ".py",
   "mimetype": "text/x-python",
   "name": "python",
   "nbconvert_exporter": "python",
   "pygments_lexer": "ipython3",
   "version": "3.8.8"
  }
 },
 "nbformat": 4,
 "nbformat_minor": 5
}
