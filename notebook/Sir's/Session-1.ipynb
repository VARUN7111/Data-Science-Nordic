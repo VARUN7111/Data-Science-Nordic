{
 "cells": [
  {
   "cell_type": "code",
   "execution_count": 1,
   "id": "0c7d1e2e",
   "metadata": {},
   "outputs": [
    {
     "name": "stdout",
     "output_type": "stream",
     "text": [
      "Helllo Data Science\n"
     ]
    }
   ],
   "source": [
    "print(\"Helllo Data Science\")"
   ]
  },
  {
   "cell_type": "code",
   "execution_count": 2,
   "id": "507e5dbe",
   "metadata": {},
   "outputs": [
    {
     "data": {
      "text/plain": [
       "5"
      ]
     },
     "execution_count": 2,
     "metadata": {},
     "output_type": "execute_result"
    }
   ],
   "source": [
    "1 + 4"
   ]
  },
  {
   "cell_type": "code",
   "execution_count": 3,
   "id": "592461c1",
   "metadata": {},
   "outputs": [
    {
     "data": {
      "text/plain": [
       "5"
      ]
     },
     "execution_count": 3,
     "metadata": {},
     "output_type": "execute_result"
    }
   ],
   "source": [
    "1 * 5"
   ]
  },
  {
   "cell_type": "markdown",
   "id": "17be41f4",
   "metadata": {},
   "source": [
    "## Operators"
   ]
  },
  {
   "cell_type": "code",
   "execution_count": 4,
   "id": "fbf45cfe",
   "metadata": {},
   "outputs": [],
   "source": [
    "a = 8 # assigment operator\n",
    "b = 7"
   ]
  },
  {
   "cell_type": "code",
   "execution_count": 5,
   "id": "496f7dc0",
   "metadata": {},
   "outputs": [
    {
     "data": {
      "text/plain": [
       "15"
      ]
     },
     "execution_count": 5,
     "metadata": {},
     "output_type": "execute_result"
    }
   ],
   "source": [
    "a + b"
   ]
  },
  {
   "cell_type": "code",
   "execution_count": 6,
   "id": "f1aa454a",
   "metadata": {},
   "outputs": [
    {
     "data": {
      "text/plain": [
       "1"
      ]
     },
     "execution_count": 6,
     "metadata": {},
     "output_type": "execute_result"
    }
   ],
   "source": [
    "a - b"
   ]
  },
  {
   "cell_type": "code",
   "execution_count": 7,
   "id": "b4fe3d8d",
   "metadata": {},
   "outputs": [
    {
     "data": {
      "text/plain": [
       "56"
      ]
     },
     "execution_count": 7,
     "metadata": {},
     "output_type": "execute_result"
    }
   ],
   "source": [
    "a * b"
   ]
  },
  {
   "cell_type": "code",
   "execution_count": 8,
   "id": "c2b6422e",
   "metadata": {},
   "outputs": [
    {
     "data": {
      "text/plain": [
       "1"
      ]
     },
     "execution_count": 8,
     "metadata": {},
     "output_type": "execute_result"
    }
   ],
   "source": [
    "a  % b"
   ]
  },
  {
   "cell_type": "code",
   "execution_count": 9,
   "id": "49c7b804",
   "metadata": {},
   "outputs": [
    {
     "data": {
      "text/plain": [
       "1"
      ]
     },
     "execution_count": 9,
     "metadata": {},
     "output_type": "execute_result"
    }
   ],
   "source": [
    "a // b"
   ]
  },
  {
   "cell_type": "markdown",
   "id": "20351483",
   "metadata": {},
   "source": [
    "## Variable gotchas"
   ]
  },
  {
   "cell_type": "code",
   "execution_count": 32,
   "id": "5877beaf",
   "metadata": {},
   "outputs": [
    {
     "name": "stdout",
     "output_type": "stream",
     "text": [
      "38950081\n",
      "4100625\n",
      "Geek Geek Geek Geek Geek \n"
     ]
    }
   ],
   "source": [
    "x =  79\n",
    "print(x ** 4)\n",
    "\n",
    "x = 45\n",
    "print(x ** 4)\n",
    "\n",
    "x = \"Geek \"\n",
    "print(x * 5)"
   ]
  },
  {
   "cell_type": "markdown",
   "id": "ce4f3616",
   "metadata": {},
   "source": [
    "### Simple data types"
   ]
  },
  {
   "cell_type": "code",
   "execution_count": 11,
   "id": "c0bd8e0d",
   "metadata": {},
   "outputs": [
    {
     "data": {
      "text/plain": [
       "float"
      ]
     },
     "execution_count": 11,
     "metadata": {},
     "output_type": "execute_result"
    }
   ],
   "source": [
    "a  = 8 # int \n",
    "b = 3.1 # float\n",
    "c = 'e'\n",
    "name = \"Python\"\n",
    "is_alpha = True"
   ]
  },
  {
   "cell_type": "markdown",
   "id": "7b5079a8",
   "metadata": {},
   "source": [
    "### Collection data types \n",
    "\n"
   ]
  },
  {
   "cell_type": "code",
   "execution_count": 13,
   "id": "57752614",
   "metadata": {},
   "outputs": [],
   "source": [
    "# lists \n",
    "L1 = [1, 2, 3, 7.9, 'c', \"Name\", a]"
   ]
  },
  {
   "cell_type": "code",
   "execution_count": 14,
   "id": "d72fe643",
   "metadata": {},
   "outputs": [
    {
     "data": {
      "text/plain": [
       "list"
      ]
     },
     "execution_count": 14,
     "metadata": {},
     "output_type": "execute_result"
    }
   ],
   "source": [
    "type(L1)"
   ]
  },
  {
   "cell_type": "code",
   "execution_count": 16,
   "id": "b2a66e15",
   "metadata": {},
   "outputs": [
    {
     "data": {
      "text/plain": [
       "tuple"
      ]
     },
     "execution_count": 16,
     "metadata": {},
     "output_type": "execute_result"
    }
   ],
   "source": [
    "# tuple\n",
    "person = ('Julia', 12)\n",
    "type(person)"
   ]
  },
  {
   "cell_type": "code",
   "execution_count": 19,
   "id": "9d1a04d9",
   "metadata": {},
   "outputs": [
    {
     "data": {
      "text/plain": [
       "dict"
      ]
     },
     "execution_count": 19,
     "metadata": {},
     "output_type": "execute_result"
    }
   ],
   "source": [
    "# Dictionary\n",
    "person2 = {'name': 'Julia', 'age': \"12\"}\n",
    "type(person2)"
   ]
  },
  {
   "cell_type": "markdown",
   "id": "e704fe26",
   "metadata": {},
   "source": [
    "## Control flow"
   ]
  },
  {
   "cell_type": "code",
   "execution_count": 27,
   "id": "9b01de94",
   "metadata": {},
   "outputs": [
    {
     "name": "stdout",
     "output_type": "stream",
     "text": [
      "I am a magic\n"
     ]
    }
   ],
   "source": [
    "# if else \n",
    "if a > 0 and a < 8 :\n",
    "    print(\"I am a kid\")\n",
    "elif a == 8.0:\n",
    "    print(\"I am a magic\")\n",
    "else:\n",
    "    print(\"I am a void\")"
   ]
  },
  {
   "cell_type": "code",
   "execution_count": 33,
   "id": "7ac0954d",
   "metadata": {},
   "outputs": [
    {
     "name": "stdout",
     "output_type": "stream",
     "text": [
      "100000\n"
     ]
    }
   ],
   "source": [
    "d = 0\n",
    "while d < 100000:\n",
    "    d += 1\n",
    "\n",
    "print(d)"
   ]
  },
  {
   "cell_type": "code",
   "execution_count": 41,
   "id": "0a3c7125",
   "metadata": {},
   "outputs": [
    {
     "name": "stdout",
     "output_type": "stream",
     "text": [
      "1\n",
      "4\n",
      "7\n",
      "10\n",
      "13\n",
      "16\n",
      "19\n"
     ]
    }
   ],
   "source": [
    "for var in range(1, 20, 3):\n",
    "    print(var)"
   ]
  },
  {
   "cell_type": "code",
   "execution_count": 42,
   "id": "c911c415",
   "metadata": {},
   "outputs": [],
   "source": [
    "?range"
   ]
  },
  {
   "cell_type": "code",
   "execution_count": 36,
   "id": "594810c6",
   "metadata": {},
   "outputs": [
    {
     "data": {
      "text/plain": [
       "[1, 2, 3, 7.9, 'c', 'Name', 8.0]"
      ]
     },
     "execution_count": 36,
     "metadata": {},
     "output_type": "execute_result"
    }
   ],
   "source": [
    "L1"
   ]
  },
  {
   "cell_type": "code",
   "execution_count": 37,
   "id": "c007c530",
   "metadata": {},
   "outputs": [
    {
     "name": "stdout",
     "output_type": "stream",
     "text": [
      "1\n",
      "2\n",
      "3\n",
      "7.9\n",
      "c\n",
      "Name\n",
      "8.0\n"
     ]
    }
   ],
   "source": [
    "for item in L1:\n",
    "    print(item)"
   ]
  },
  {
   "cell_type": "markdown",
   "id": "90a4275b",
   "metadata": {},
   "source": [
    "## List manipulation"
   ]
  },
  {
   "cell_type": "code",
   "execution_count": 43,
   "id": "960e372a",
   "metadata": {},
   "outputs": [
    {
     "data": {
      "text/plain": [
       "[1, 2, 3, 7.9, 'c', 'Name', 8.0]"
      ]
     },
     "execution_count": 43,
     "metadata": {},
     "output_type": "execute_result"
    }
   ],
   "source": [
    "L1"
   ]
  },
  {
   "cell_type": "code",
   "execution_count": 44,
   "id": "5680ec8f",
   "metadata": {},
   "outputs": [
    {
     "data": {
      "text/plain": [
       "2"
      ]
     },
     "execution_count": 44,
     "metadata": {},
     "output_type": "execute_result"
    }
   ],
   "source": [
    "L1[1]"
   ]
  },
  {
   "cell_type": "code",
   "execution_count": 45,
   "id": "063c6e8b",
   "metadata": {},
   "outputs": [
    {
     "data": {
      "text/plain": [
       "[1, 2, 3]"
      ]
     },
     "execution_count": 45,
     "metadata": {},
     "output_type": "execute_result"
    }
   ],
   "source": [
    "L1[0:3]"
   ]
  },
  {
   "cell_type": "code",
   "execution_count": 46,
   "id": "fe320e6c",
   "metadata": {},
   "outputs": [
    {
     "data": {
      "text/plain": [
       "8.0"
      ]
     },
     "execution_count": 46,
     "metadata": {},
     "output_type": "execute_result"
    }
   ],
   "source": [
    "L1[-1]"
   ]
  },
  {
   "cell_type": "code",
   "execution_count": 155,
   "id": "457bad18",
   "metadata": {},
   "outputs": [],
   "source": [
    "L2 = [7.0, 8.0, 9.0]\n",
    "L3 = []\n",
    "\n",
    "if len(L1) >= 8:\n",
    "    L3.append(L1[8])\n",
    "    \n",
    "if 2 in L1:\n",
    "    L3.append(L1[1])\n",
    "\n",
    "L3.append(L2)"
   ]
  },
  {
   "cell_type": "code",
   "execution_count": 90,
   "id": "3e64d7fd",
   "metadata": {},
   "outputs": [
    {
     "data": {
      "text/plain": [
       "[1, 2, 3, 7.9, 'c', 'Name', 8.0, 9.0, 9.0, 9.0]"
      ]
     },
     "execution_count": 90,
     "metadata": {},
     "output_type": "execute_result"
    }
   ],
   "source": [
    "L1.append(9.0)\n",
    "maxi = len(L1)\n",
    "L1[maxi - 1]\n",
    "L1"
   ]
  },
  {
   "cell_type": "code",
   "execution_count": 74,
   "id": "756f3ec7",
   "metadata": {},
   "outputs": [
    {
     "data": {
      "text/plain": [
       "[[7.0, 8.0, 9.0]]"
      ]
     },
     "execution_count": 74,
     "metadata": {},
     "output_type": "execute_result"
    }
   ],
   "source": [
    "L3"
   ]
  },
  {
   "cell_type": "code",
   "execution_count": 65,
   "id": "828a3916",
   "metadata": {},
   "outputs": [
    {
     "data": {
      "text/plain": [
       "2"
      ]
     },
     "execution_count": 65,
     "metadata": {},
     "output_type": "execute_result"
    }
   ],
   "source": [
    "L3[0][1]"
   ]
  },
  {
   "cell_type": "code",
   "execution_count": 114,
   "id": "a5cfa4a8",
   "metadata": {},
   "outputs": [
    {
     "data": {
      "text/plain": [
       "[1, 2, 3, 4, 1, 2, 3, 7.9, 'c', 'Name', 8.0, 9.0, 9.0, 9.0]"
      ]
     },
     "execution_count": 114,
     "metadata": {},
     "output_type": "execute_result"
    }
   ],
   "source": [
    "test = [1, 2, 3]\n",
    "test.append(4)\n",
    "test.extend(L1)\n",
    "test"
   ]
  },
  {
   "cell_type": "code",
   "execution_count": 102,
   "id": "bdff64ef",
   "metadata": {},
   "outputs": [
    {
     "data": {
      "text/plain": [
       "[1, 2, 3, 4, 5, 1, 2, 3, 7.9, 'c', 'Name', 8.0, 9.0, 9.0, 9.0]"
      ]
     },
     "execution_count": 102,
     "metadata": {},
     "output_type": "execute_result"
    }
   ],
   "source": [
    "test.insert(4, 5) #  index and a value\n",
    "test"
   ]
  },
  {
   "cell_type": "code",
   "execution_count": 103,
   "id": "a4c7bce5",
   "metadata": {},
   "outputs": [
    {
     "data": {
      "text/plain": [
       "[1, 2, 3, 4, 5, 1, 2, 3, 7.9, 'Name', 8.0, 9.0, 9.0, 9.0]"
      ]
     },
     "execution_count": 103,
     "metadata": {},
     "output_type": "execute_result"
    }
   ],
   "source": [
    "test.remove('c')"
   ]
  },
  {
   "cell_type": "code",
   "execution_count": 111,
   "id": "bedbb22c",
   "metadata": {},
   "outputs": [
    {
     "name": "stdout",
     "output_type": "stream",
     "text": [
      "[1, 2, 3, 4, 1, 2, 3, 7.9, 'c', 'Name', 8.0, 9.0]\n",
      "[1, 2, 3, 4, 1, 2, 3, 7.9, 'c', 'Name', 8.0]\n"
     ]
    },
    {
     "data": {
      "text/plain": [
       "9.0"
      ]
     },
     "execution_count": 111,
     "metadata": {},
     "output_type": "execute_result"
    }
   ],
   "source": [
    "print(test)\n",
    "demo = test.pop()\n",
    "print(test)\n",
    "demo"
   ]
  },
  {
   "cell_type": "code",
   "execution_count": 113,
   "id": "1cb2e7c6",
   "metadata": {},
   "outputs": [
    {
     "data": {
      "text/plain": [
       "[]"
      ]
     },
     "execution_count": 113,
     "metadata": {},
     "output_type": "execute_result"
    }
   ],
   "source": [
    "test.clear()\n",
    "test"
   ]
  },
  {
   "cell_type": "code",
   "execution_count": 120,
   "id": "a043e8f3",
   "metadata": {},
   "outputs": [
    {
     "name": "stdout",
     "output_type": "stream",
     "text": [
      "[1, 2, 3, 4, 1, 2, 3, 7.9, 'c', 'Name', 8.0, 9.0, 9.0, 9.0]\n"
     ]
    },
    {
     "data": {
      "text/plain": [
       "9.0"
      ]
     },
     "execution_count": 120,
     "metadata": {},
     "output_type": "execute_result"
    }
   ],
   "source": [
    "print(test)\n",
    "position = test.index(9.0) \n",
    "test[position]"
   ]
  },
  {
   "cell_type": "code",
   "execution_count": 126,
   "id": "8b6cda92",
   "metadata": {},
   "outputs": [
    {
     "name": "stdout",
     "output_type": "stream",
     "text": [
      "[1, 2, 3, 4, 1, 2, 3, 7.9, 'c', 'Name', 8.0, 9.0, 9.0, 9.0]\n"
     ]
    },
    {
     "data": {
      "text/plain": [
       "3"
      ]
     },
     "execution_count": 126,
     "metadata": {},
     "output_type": "execute_result"
    }
   ],
   "source": [
    "print(test)\n",
    "test.count(9.0)"
   ]
  },
  {
   "cell_type": "code",
   "execution_count": 141,
   "id": "d3f56516",
   "metadata": {},
   "outputs": [
    {
     "data": {
      "text/plain": [
       "1"
      ]
     },
     "execution_count": 141,
     "metadata": {},
     "output_type": "execute_result"
    }
   ],
   "source": [
    "char = ['a', 'A', 'a', 'e', 'd']\n",
    "char. count('A')"
   ]
  },
  {
   "cell_type": "code",
   "execution_count": 130,
   "id": "67d05656",
   "metadata": {},
   "outputs": [
    {
     "data": {
      "text/plain": [
       "[1, 1, 2, 2, 3, 3, 4, 7.9, 8.0, 9.0, 9.0, 9.0]"
      ]
     },
     "execution_count": 130,
     "metadata": {},
     "output_type": "execute_result"
    }
   ],
   "source": [
    "# test.remove('c')\n",
    "# test.remove('Name')\n",
    "test.sort()\n",
    "test"
   ]
  },
  {
   "cell_type": "code",
   "execution_count": 131,
   "id": "ec1ae735",
   "metadata": {},
   "outputs": [
    {
     "data": {
      "text/plain": [
       "[9.0, 9.0, 9.0, 8.0, 7.9, 4, 3, 3, 2, 2, 1, 1]"
      ]
     },
     "execution_count": 131,
     "metadata": {},
     "output_type": "execute_result"
    }
   ],
   "source": [
    "test.reverse()\n",
    "test"
   ]
  },
  {
   "cell_type": "code",
   "execution_count": 136,
   "id": "bcb12e61",
   "metadata": {},
   "outputs": [
    {
     "name": "stdout",
     "output_type": "stream",
     "text": [
      "16\n",
      "16\n"
     ]
    }
   ],
   "source": [
    "a = 8\n",
    "b = a\n",
    "print(2 * b)\n",
    "del b\n",
    "print( 2 * a)"
   ]
  },
  {
   "cell_type": "code",
   "execution_count": 137,
   "id": "24fb200e",
   "metadata": {},
   "outputs": [
    {
     "name": "stdout",
     "output_type": "stream",
     "text": [
      "X1 ['a', 'c', 'e']\n",
      "X2 ['a', 'c', 'e']\n"
     ]
    }
   ],
   "source": [
    "x1 = ['a', 'c', 'e']\n",
    "x2 = x1.copy()\n",
    "print(\"X1\", x1)\n",
    "print(\"X2\", x2)"
   ]
  },
  {
   "cell_type": "code",
   "execution_count": 138,
   "id": "94bc7258",
   "metadata": {},
   "outputs": [
    {
     "name": "stdout",
     "output_type": "stream",
     "text": [
      "['a', 'c']\n"
     ]
    }
   ],
   "source": [
    "x2.remove('e')\n",
    "print(x2)"
   ]
  },
  {
   "cell_type": "code",
   "execution_count": 139,
   "id": "da6d0da6",
   "metadata": {},
   "outputs": [
    {
     "name": "stdout",
     "output_type": "stream",
     "text": [
      "['a', 'c', 'e']\n"
     ]
    }
   ],
   "source": [
    "print(x1)"
   ]
  },
  {
   "cell_type": "markdown",
   "id": "ebbc4627",
   "metadata": {},
   "source": [
    "- append  #  adds an element to the end of the list\n",
    "- extend #  add all elements from one list to another\n",
    "- insert # insert an item at a specified index\n",
    "- remove # remove an element from a list by value\n",
    "- pop # removes element from a list end, and returns the removed value\n",
    "- clear # removes all the items from a list\n",
    "- index # returns the position of  the first matched  item\n",
    "- count # returs the number of occurances of a given element\n",
    "- sort # sort items in an ascending order\n",
    "- reverse\n",
    "- copy # returns a shallow copy of the list"
   ]
  },
  {
   "cell_type": "code",
   "execution_count": 153,
   "id": "89986757",
   "metadata": {},
   "outputs": [],
   "source": [
    "numbers_100 = [num for num in range(0, 100, 5)]"
   ]
  },
  {
   "cell_type": "code",
   "execution_count": 154,
   "id": "877044e5",
   "metadata": {},
   "outputs": [
    {
     "data": {
      "text/plain": [
       "[0, 5, 10, 15, 20, 25, 30, 35, 40, 45, 50, 55, 60, 65, 70, 75, 80, 85, 90, 95]"
      ]
     },
     "execution_count": 154,
     "metadata": {},
     "output_type": "execute_result"
    }
   ],
   "source": [
    "numbers_100"
   ]
  },
  {
   "cell_type": "markdown",
   "id": "17f3314f",
   "metadata": {},
   "source": [
    "## Curriculum"
   ]
  },
  {
   "cell_type": "markdown",
   "id": "d2353af5",
   "metadata": {},
   "source": [
    "- Python basics\n",
    "    -  [x] Lists\n",
    "    -  [x] Tuples, Dictionaries\n",
    "    -  [x] Fucntions\n",
    "    -  [ ] Classes\n",
    "    \n",
    "- Essential Libraries\n",
    "    - [ ] Pandas\n",
    "    - [ ] Numpy\n",
    "    - [ ] Matplotlib\n",
    "    - [ ] Pillow\n",
    "    \n",
    "- Classical Machine Learning\n",
    "    - [ ] Scikit Learn\n",
    "    - [ ] Scikit Image\n",
    "    - [ ] Data pre-processing.\n",
    "    - [ ] Algorithms\n",
    "\n",
    "- State of the Art machine Learning\n",
    "    - [ ] Tensorflow\n",
    "    - [ ] Keras\n",
    "    - [ ] CNN\n",
    "    - [ ] RNN\n",
    "    - [ ] NLP\n",
    "    - [ ] Investigation methods\n",
    "\n",
    "- Julia \n",
    "    - [ ] Basics and adaptation from Python\n",
    "    - [ ] Machine learning pipeline\n",
    "    - [ ] Performance boosting from python \n",
    "\n",
    "- R / Bioconductor\n",
    "    - [ ] Data Frames\n",
    "    - [ ] Plotting complex visualizations"
   ]
  },
  {
   "cell_type": "code",
   "execution_count": null,
   "id": "2972f8a0",
   "metadata": {},
   "outputs": [],
   "source": []
  }
 ],
 "metadata": {
  "kernelspec": {
   "display_name": "Python 3",
   "language": "python",
   "name": "python3"
  },
  "language_info": {
   "codemirror_mode": {
    "name": "ipython",
    "version": 3
   },
   "file_extension": ".py",
   "mimetype": "text/x-python",
   "name": "python",
   "nbconvert_exporter": "python",
   "pygments_lexer": "ipython3",
   "version": "3.8.10"
  }
 },
 "nbformat": 4,
 "nbformat_minor": 5
}
