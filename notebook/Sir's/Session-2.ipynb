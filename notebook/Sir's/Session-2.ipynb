{
 "cells": [
  {
   "cell_type": "markdown",
   "id": "4468a56c",
   "metadata": {},
   "source": [
    "- [x] Tuple\n",
    "- [x] Dictionary\n",
    "- [x] Functions"
   ]
  },
  {
   "cell_type": "code",
   "execution_count": 2,
   "id": "e227896c",
   "metadata": {
    "scrolled": true
   },
   "outputs": [
    {
     "data": {
      "text/plain": [
       "[1, 3, 5, 7]"
      ]
     },
     "execution_count": 2,
     "metadata": {},
     "output_type": "execute_result"
    }
   ],
   "source": [
    "lone = [1, 3, 5, 7]\n",
    "lone"
   ]
  },
  {
   "cell_type": "code",
   "execution_count": 60,
   "id": "8a51fa8c",
   "metadata": {},
   "outputs": [
    {
     "data": {
      "text/plain": [
       "[1, 'Hola', 5, 7]"
      ]
     },
     "execution_count": 60,
     "metadata": {},
     "output_type": "execute_result"
    }
   ],
   "source": [
    "lone[:]"
   ]
  },
  {
   "cell_type": "code",
   "execution_count": 3,
   "id": "ead94c36",
   "metadata": {},
   "outputs": [],
   "source": [
    " lone[1] = 'Hola'"
   ]
  },
  {
   "cell_type": "code",
   "execution_count": 4,
   "id": "74429de2",
   "metadata": {},
   "outputs": [
    {
     "data": {
      "text/plain": [
       "[1, 'Hola', 5, 7]"
      ]
     },
     "execution_count": 4,
     "metadata": {},
     "output_type": "execute_result"
    }
   ],
   "source": [
    "lone"
   ]
  },
  {
   "cell_type": "markdown",
   "id": "a821b678",
   "metadata": {},
   "source": [
    "## Immutable by default"
   ]
  },
  {
   "cell_type": "code",
   "execution_count": 5,
   "id": "d24f0a6f",
   "metadata": {},
   "outputs": [],
   "source": [
    "m1 = (1, 5)"
   ]
  },
  {
   "cell_type": "code",
   "execution_count": 6,
   "id": "b757b40e",
   "metadata": {},
   "outputs": [
    {
     "data": {
      "text/plain": [
       "tuple"
      ]
     },
     "execution_count": 6,
     "metadata": {},
     "output_type": "execute_result"
    }
   ],
   "source": [
    "type(m1)"
   ]
  },
  {
   "cell_type": "code",
   "execution_count": 11,
   "id": "9618954d",
   "metadata": {},
   "outputs": [
    {
     "ename": "TypeError",
     "evalue": "'tuple' object does not support item assignment",
     "output_type": "error",
     "traceback": [
      "\u001b[0;31m----------------------------------------------------------------\u001b[0m",
      "\u001b[0;31mTypeError\u001b[0m                      Traceback (most recent call last)",
      "\u001b[0;32m<ipython-input-11-84f484258e83>\u001b[0m in \u001b[0;36m<module>\u001b[0;34m\u001b[0m\n\u001b[0;32m----> 1\u001b[0;31m \u001b[0mm1\u001b[0m\u001b[0;34m[\u001b[0m\u001b[0;36m0\u001b[0m\u001b[0;34m]\u001b[0m \u001b[0;34m=\u001b[0m \u001b[0;34m'Hola'\u001b[0m\u001b[0;34m\u001b[0m\u001b[0;34m\u001b[0m\u001b[0m\n\u001b[0m",
      "\u001b[0;31mTypeError\u001b[0m: 'tuple' object does not support item assignment"
     ]
    }
   ],
   "source": [
    "m1[0] = 'Hola'"
   ]
  },
  {
   "cell_type": "code",
   "execution_count": 10,
   "id": "5ce5dbf0",
   "metadata": {},
   "outputs": [
    {
     "data": {
      "text/plain": [
       "str"
      ]
     },
     "execution_count": 10,
     "metadata": {},
     "output_type": "execute_result"
    }
   ],
   "source": [
    "name = \"Python\"\n",
    "type(name)"
   ]
  },
  {
   "cell_type": "code",
   "execution_count": 9,
   "id": "ecf5dd56",
   "metadata": {},
   "outputs": [
    {
     "data": {
      "text/plain": [
       "'P'"
      ]
     },
     "execution_count": 9,
     "metadata": {},
     "output_type": "execute_result"
    }
   ],
   "source": [
    "name[0]"
   ]
  },
  {
   "cell_type": "code",
   "execution_count": 12,
   "id": "8144533c",
   "metadata": {},
   "outputs": [],
   "source": [
    " my_tuple = ()"
   ]
  },
  {
   "cell_type": "code",
   "execution_count": 13,
   "id": "1ae188f0",
   "metadata": {},
   "outputs": [],
   "source": [
    "my_tuple = (1,2,3)"
   ]
  },
  {
   "cell_type": "code",
   "execution_count": 14,
   "id": "bb39d24d",
   "metadata": {},
   "outputs": [
    {
     "data": {
      "text/plain": [
       "(1, 2, 3)"
      ]
     },
     "execution_count": 14,
     "metadata": {},
     "output_type": "execute_result"
    }
   ],
   "source": [
    "my_tuple"
   ]
  },
  {
   "cell_type": "code",
   "execution_count": 15,
   "id": "969af8af",
   "metadata": {},
   "outputs": [],
   "source": [
    "my_tuple = (1,2,3, 'Hi')"
   ]
  },
  {
   "cell_type": "code",
   "execution_count": 16,
   "id": "9d85a534",
   "metadata": {},
   "outputs": [
    {
     "data": {
      "text/plain": [
       "(1, 2, 3, 'Hi')"
      ]
     },
     "execution_count": 16,
     "metadata": {},
     "output_type": "execute_result"
    }
   ],
   "source": [
    "my_tuple"
   ]
  },
  {
   "cell_type": "markdown",
   "id": "bc291e68",
   "metadata": {},
   "source": [
    "### nested data types inside tuple"
   ]
  },
  {
   "cell_type": "code",
   "execution_count": 17,
   "id": "104612e9",
   "metadata": {},
   "outputs": [],
   "source": [
    "new_tuple =  (\"Tom\", 4, [1, 7, 9], ('a', 'b', 'c'))"
   ]
  },
  {
   "cell_type": "code",
   "execution_count": 24,
   "id": "3126ba9b",
   "metadata": {},
   "outputs": [
    {
     "data": {
      "text/plain": [
       "'o'"
      ]
     },
     "execution_count": 24,
     "metadata": {},
     "output_type": "execute_result"
    }
   ],
   "source": [
    "new_tuple[0][1]"
   ]
  },
  {
   "cell_type": "markdown",
   "id": "b1a0fa97",
   "metadata": {},
   "source": [
    "### Tuple packing"
   ]
  },
  {
   "cell_type": "code",
   "execution_count": 25,
   "id": "41144ffd",
   "metadata": {},
   "outputs": [],
   "source": [
    "free_style_tuple = 3, 4, 8, 'Tiger'"
   ]
  },
  {
   "cell_type": "code",
   "execution_count": 26,
   "id": "5d17c842",
   "metadata": {},
   "outputs": [
    {
     "data": {
      "text/plain": [
       "(3, 4, 8, 'Tiger')"
      ]
     },
     "execution_count": 26,
     "metadata": {},
     "output_type": "execute_result"
    }
   ],
   "source": [
    "free_style_tuple"
   ]
  },
  {
   "cell_type": "code",
   "execution_count": 27,
   "id": "e10bbcb3",
   "metadata": {},
   "outputs": [
    {
     "data": {
      "text/plain": [
       "tuple"
      ]
     },
     "execution_count": 27,
     "metadata": {},
     "output_type": "execute_result"
    }
   ],
   "source": [
    "type(free_style_tuple)"
   ]
  },
  {
   "cell_type": "code",
   "execution_count": 29,
   "id": "12f319b9",
   "metadata": {},
   "outputs": [],
   "source": [
    "nt = (1001, 'Tom', 'warden')"
   ]
  },
  {
   "cell_type": "code",
   "execution_count": 31,
   "id": "ec831812",
   "metadata": {},
   "outputs": [],
   "source": [
    "idnum = nt[0]\n",
    "name = nt[1]\n",
    "job = nt[2]"
   ]
  },
  {
   "cell_type": "code",
   "execution_count": 36,
   "id": "8275858f",
   "metadata": {},
   "outputs": [
    {
     "data": {
      "text/plain": [
       "'Tom'"
      ]
     },
     "execution_count": 36,
     "metadata": {},
     "output_type": "execute_result"
    }
   ],
   "source": [
    "name"
   ]
  },
  {
   "cell_type": "markdown",
   "id": "b37303e5",
   "metadata": {},
   "source": [
    "### Unpacking"
   ]
  },
  {
   "cell_type": "code",
   "execution_count": 32,
   "id": "27a1462e",
   "metadata": {},
   "outputs": [],
   "source": [
    "idnum2, name2, job2 = nt"
   ]
  },
  {
   "cell_type": "code",
   "execution_count": 34,
   "id": "3e771133",
   "metadata": {},
   "outputs": [
    {
     "data": {
      "text/plain": [
       "1001"
      ]
     },
     "execution_count": 34,
     "metadata": {},
     "output_type": "execute_result"
    }
   ],
   "source": [
    "name2"
   ]
  },
  {
   "cell_type": "code",
   "execution_count": 37,
   "id": "2bfcff0e",
   "metadata": {},
   "outputs": [],
   "source": [
    "a1 = [1001, 'Tom', 'warden']\n",
    "idnum = a1[0]\n",
    "name = a1[1]\n",
    "job = a1[2]"
   ]
  },
  {
   "cell_type": "code",
   "execution_count": 38,
   "id": "c7ef1232",
   "metadata": {},
   "outputs": [
    {
     "data": {
      "text/plain": [
       "1001"
      ]
     },
     "execution_count": 38,
     "metadata": {},
     "output_type": "execute_result"
    }
   ],
   "source": [
    "idnum"
   ]
  },
  {
   "cell_type": "code",
   "execution_count": 41,
   "id": "dd2ea795",
   "metadata": {},
   "outputs": [],
   "source": [
    "idnum2, name2 = a1[0:2]"
   ]
  },
  {
   "cell_type": "code",
   "execution_count": 51,
   "id": "429be054",
   "metadata": {},
   "outputs": [
    {
     "data": {
      "text/plain": [
       "[1001, 'Tom']"
      ]
     },
     "execution_count": 51,
     "metadata": {},
     "output_type": "execute_result"
    }
   ],
   "source": [
    "a1[0:2]"
   ]
  },
  {
   "cell_type": "code",
   "execution_count": 43,
   "id": "5f338ac0",
   "metadata": {},
   "outputs": [],
   "source": [
    "t1 = (1001, 'Tom', 'warden')\n",
    "t2 = (1002, 'Jerry', 'Toublemaker')"
   ]
  },
  {
   "cell_type": "code",
   "execution_count": 55,
   "id": "17efcaae",
   "metadata": {},
   "outputs": [],
   "source": [
    "t = [ ]\n",
    "t.append(t1[0])\n",
    "t.extend(t1)\n",
    "t.extend(t1[:])"
   ]
  },
  {
   "cell_type": "code",
   "execution_count": 49,
   "id": "4611ec2d",
   "metadata": {},
   "outputs": [
    {
     "data": {
      "text/plain": [
       "[1001, 1001, 'Tom', 'warden']"
      ]
     },
     "execution_count": 49,
     "metadata": {},
     "output_type": "execute_result"
    }
   ],
   "source": [
    "t"
   ]
  },
  {
   "cell_type": "code",
   "execution_count": 53,
   "id": "b2d1119b",
   "metadata": {},
   "outputs": [
    {
     "data": {
      "text/plain": [
       "'warden'"
      ]
     },
     "execution_count": 53,
     "metadata": {},
     "output_type": "execute_result"
    }
   ],
   "source": [
    "t[-1]"
   ]
  },
  {
   "cell_type": "markdown",
   "id": "f6a61bc4",
   "metadata": {},
   "source": [
    "## Dictionaries"
   ]
  },
  {
   "cell_type": "code",
   "execution_count": 61,
   "id": "4ece1834",
   "metadata": {},
   "outputs": [],
   "source": [
    "## hashmap, keypair values"
   ]
  },
  {
   "cell_type": "code",
   "execution_count": 136,
   "id": "2908bdca",
   "metadata": {},
   "outputs": [],
   "source": [
    "d1 = {'id': 1001, 'name': 'Tom',  'job': 'warden'}\n",
    "d2 = {'id': 1002, 'name': 'Jerry',  'job': 'Troublemaker'}\n",
    "d3 = {'id': 1003, 'name': 'Puck',  'job': 'Antihero'}"
   ]
  },
  {
   "cell_type": "code",
   "execution_count": 139,
   "id": "f4668551",
   "metadata": {},
   "outputs": [
    {
     "data": {
      "text/plain": [
       "'Tom'"
      ]
     },
     "execution_count": 139,
     "metadata": {},
     "output_type": "execute_result"
    }
   ],
   "source": [
    "anima = [d1, d2, d3]\n",
    "anima[0]['name']"
   ]
  },
  {
   "cell_type": "code",
   "execution_count": 65,
   "id": "2fcff2ec",
   "metadata": {},
   "outputs": [],
   "source": [
    "my_dict = { }"
   ]
  },
  {
   "cell_type": "code",
   "execution_count": 66,
   "id": "8cf58916",
   "metadata": {},
   "outputs": [
    {
     "data": {
      "text/plain": [
       "dict"
      ]
     },
     "execution_count": 66,
     "metadata": {},
     "output_type": "execute_result"
    }
   ],
   "source": [
    "type(my_dict)"
   ]
  },
  {
   "cell_type": "code",
   "execution_count": 146,
   "id": "5f0923bb",
   "metadata": {},
   "outputs": [],
   "source": [
    "my_dict = {1: 'Newton', 2: 'Bhor', 3: 'Benjamin', 4: [2, 4, 6 , 8 ], 5: ('a', 'b', 'c'), 6: d1}"
   ]
  },
  {
   "cell_type": "code",
   "execution_count": 147,
   "id": "b7f72cea",
   "metadata": {},
   "outputs": [
    {
     "data": {
      "text/plain": [
       "{1: 'Newton',\n",
       " 2: 'Bhor',\n",
       " 3: 'Benjamin',\n",
       " 4: [2, 4, 6, 8],\n",
       " 5: ('a', 'b', 'c'),\n",
       " 6: {'id': 1001, 'name': 'Tom', 'job': 'warden'}}"
      ]
     },
     "execution_count": 147,
     "metadata": {},
     "output_type": "execute_result"
    }
   ],
   "source": [
    "my_dict"
   ]
  },
  {
   "cell_type": "code",
   "execution_count": 79,
   "id": "867397be",
   "metadata": {},
   "outputs": [
    {
     "data": {
      "text/plain": [
       "'warden'"
      ]
     },
     "execution_count": 79,
     "metadata": {},
     "output_type": "execute_result"
    }
   ],
   "source": [
    "my_dict[6]['job']"
   ]
  },
  {
   "cell_type": "code",
   "execution_count": 80,
   "id": "7c674b8e",
   "metadata": {},
   "outputs": [
    {
     "data": {
      "text/plain": [
       "[2, 4, 6, 8]"
      ]
     },
     "execution_count": 80,
     "metadata": {},
     "output_type": "execute_result"
    }
   ],
   "source": [
    "my_dict.get(4)"
   ]
  },
  {
   "cell_type": "code",
   "execution_count": 83,
   "id": "b113e2fa",
   "metadata": {},
   "outputs": [],
   "source": [
    "d1.get('name')\n",
    "d1['name'] = 'Bull'"
   ]
  },
  {
   "cell_type": "code",
   "execution_count": 84,
   "id": "3ac4cdf3",
   "metadata": {},
   "outputs": [
    {
     "data": {
      "text/plain": [
       "'Bull'"
      ]
     },
     "execution_count": 84,
     "metadata": {},
     "output_type": "execute_result"
    }
   ],
   "source": [
    "d1.get('name')"
   ]
  },
  {
   "cell_type": "code",
   "execution_count": 89,
   "id": "eb28bf8b",
   "metadata": {},
   "outputs": [
    {
     "data": {
      "text/plain": [
       "'Bhor'"
      ]
     },
     "execution_count": 89,
     "metadata": {},
     "output_type": "execute_result"
    }
   ],
   "source": [
    "test = my_dict.pop(2)\n",
    "test"
   ]
  },
  {
   "cell_type": "code",
   "execution_count": 90,
   "id": "c8d95cd5",
   "metadata": {},
   "outputs": [
    {
     "data": {
      "text/plain": [
       "{3: 'Benjamin',\n",
       " 4: [2, 4, 6, 8],\n",
       " 5: ('a', 'b', 'c'),\n",
       " 6: {'id': 1001, 'name': 'Bull', 'job': 'warden'}}"
      ]
     },
     "execution_count": 90,
     "metadata": {},
     "output_type": "execute_result"
    }
   ],
   "source": [
    "my_dict"
   ]
  },
  {
   "cell_type": "code",
   "execution_count": 92,
   "id": "66715a96",
   "metadata": {},
   "outputs": [],
   "source": [
    "d1.clear()"
   ]
  },
  {
   "cell_type": "code",
   "execution_count": 93,
   "id": "52d6a42d",
   "metadata": {},
   "outputs": [
    {
     "data": {
      "text/plain": [
       "{}"
      ]
     },
     "execution_count": 93,
     "metadata": {},
     "output_type": "execute_result"
    }
   ],
   "source": [
    "d1"
   ]
  },
  {
   "cell_type": "code",
   "execution_count": 99,
   "id": "aeb0c7b2",
   "metadata": {},
   "outputs": [
    {
     "ename": "KeyError",
     "evalue": "'popitem(): dictionary is empty'",
     "output_type": "error",
     "traceback": [
      "\u001b[0;31m----------------------------------------------------------------\u001b[0m",
      "\u001b[0;31mKeyError\u001b[0m                       Traceback (most recent call last)",
      "\u001b[0;32m<ipython-input-99-15194deabd0c>\u001b[0m in \u001b[0;36m<module>\u001b[0;34m\u001b[0m\n\u001b[0;32m----> 1\u001b[0;31m \u001b[0md1\u001b[0m\u001b[0;34m.\u001b[0m\u001b[0mpopitem\u001b[0m\u001b[0;34m(\u001b[0m\u001b[0;34m)\u001b[0m\u001b[0;34m\u001b[0m\u001b[0;34m\u001b[0m\u001b[0m\n\u001b[0m",
      "\u001b[0;31mKeyError\u001b[0m: 'popitem(): dictionary is empty'"
     ]
    }
   ],
   "source": [
    "d1.popitem()"
   ]
  },
  {
   "cell_type": "code",
   "execution_count": 101,
   "id": "67b230c9",
   "metadata": {},
   "outputs": [],
   "source": [
    "del d1"
   ]
  },
  {
   "cell_type": "code",
   "execution_count": 102,
   "id": "254d6a15",
   "metadata": {},
   "outputs": [
    {
     "ename": "NameError",
     "evalue": "name 'd1' is not defined",
     "output_type": "error",
     "traceback": [
      "\u001b[0;31m----------------------------------------------------------------\u001b[0m",
      "\u001b[0;31mNameError\u001b[0m                      Traceback (most recent call last)",
      "\u001b[0;32m<ipython-input-102-2d3a24957153>\u001b[0m in \u001b[0;36m<module>\u001b[0;34m\u001b[0m\n\u001b[0;32m----> 1\u001b[0;31m \u001b[0md1\u001b[0m\u001b[0;34m\u001b[0m\u001b[0;34m\u001b[0m\u001b[0m\n\u001b[0m",
      "\u001b[0;31mNameError\u001b[0m: name 'd1' is not defined"
     ]
    }
   ],
   "source": [
    "d1"
   ]
  },
  {
   "cell_type": "code",
   "execution_count": 105,
   "id": "d522951c",
   "metadata": {},
   "outputs": [
    {
     "data": {
      "text/plain": [
       "dict_keys(['id', 'name', 'job'])"
      ]
     },
     "execution_count": 105,
     "metadata": {},
     "output_type": "execute_result"
    }
   ],
   "source": [
    "d1.keys()"
   ]
  },
  {
   "cell_type": "code",
   "execution_count": 106,
   "id": "eddf00ba",
   "metadata": {},
   "outputs": [
    {
     "data": {
      "text/plain": [
       "dict_values([1001, 'Tom', 'warden'])"
      ]
     },
     "execution_count": 106,
     "metadata": {},
     "output_type": "execute_result"
    }
   ],
   "source": [
    "d1.values()"
   ]
  },
  {
   "cell_type": "code",
   "execution_count": 133,
   "id": "d2882673",
   "metadata": {},
   "outputs": [],
   "source": [
    "names = ['Tom', 'Jerry', 'Bunny']\n",
    "jobs = ['Warden', 'Toublemaker', 'hero' ]"
   ]
  },
  {
   "cell_type": "code",
   "execution_count": 134,
   "id": "2195aab0",
   "metadata": {},
   "outputs": [],
   "source": [
    " chars = dict(zip(names, jobs))"
   ]
  },
  {
   "cell_type": "code",
   "execution_count": 135,
   "id": "299826f0",
   "metadata": {},
   "outputs": [],
   "source": []
  },
  {
   "cell_type": "code",
   "execution_count": 110,
   "id": "a98dec88",
   "metadata": {},
   "outputs": [
    {
     "name": "stdout",
     "output_type": "stream",
     "text": [
      "Tom\n",
      "Jerry\n",
      "Bunny\n"
     ]
    }
   ],
   "source": [
    "for name in names:\n",
    "    print(name)"
   ]
  },
  {
   "cell_type": "code",
   "execution_count": 112,
   "id": "986e55c2",
   "metadata": {},
   "outputs": [
    {
     "name": "stdout",
     "output_type": "stream",
     "text": [
      "Tom => Warden\n",
      "Jerry => Toublemaker\n",
      "Bunny => hero\n"
     ]
    }
   ],
   "source": [
    "for (name, ch) in chars.items():\n",
    "    print(name, \"=>\", ch)"
   ]
  },
  {
   "cell_type": "code",
   "execution_count": 113,
   "id": "c8b6332e",
   "metadata": {},
   "outputs": [
    {
     "name": "stdout",
     "output_type": "stream",
     "text": [
      "Tom => Warden\n",
      "Jerry => Toublemaker\n",
      "Bunny => hero\n"
     ]
    }
   ],
   "source": [
    "for name in chars.keys():\n",
    "    print(name, \"=>\", chars[name])"
   ]
  },
  {
   "cell_type": "code",
   "execution_count": 122,
   "id": "f86a00d4",
   "metadata": {},
   "outputs": [
    {
     "data": {
      "text/plain": [
       "{'id': 1001, 'name': 'Tom', 'job': 'warden'}"
      ]
     },
     "execution_count": 122,
     "metadata": {},
     "output_type": "execute_result"
    }
   ],
   "source": [
    "d2  = d1.copy()\n",
    "d2"
   ]
  },
  {
   "cell_type": "code",
   "execution_count": 124,
   "id": "62053254",
   "metadata": {},
   "outputs": [
    {
     "data": {
      "text/plain": [
       "{'id': 1001, 'name': 'Gecko', 'job': 'warden'}"
      ]
     },
     "execution_count": 124,
     "metadata": {},
     "output_type": "execute_result"
    }
   ],
   "source": [
    "d2['name'] = 'Gecko'\n",
    "d2"
   ]
  },
  {
   "cell_type": "code",
   "execution_count": 125,
   "id": "bd821336",
   "metadata": {},
   "outputs": [
    {
     "data": {
      "text/plain": [
       "{'id': 1001, 'name': 'Tom', 'job': 'warden'}"
      ]
     },
     "execution_count": 125,
     "metadata": {},
     "output_type": "execute_result"
    }
   ],
   "source": [
    "d1"
   ]
  },
  {
   "cell_type": "code",
   "execution_count": 140,
   "id": "26955b0c",
   "metadata": {},
   "outputs": [
    {
     "data": {
      "text/plain": [
       "['Tom', 'Jerry', 'Bunny']"
      ]
     },
     "execution_count": 140,
     "metadata": {},
     "output_type": "execute_result"
    }
   ],
   "source": [
    "names"
   ]
  },
  {
   "cell_type": "markdown",
   "id": "8645f9b4",
   "metadata": {},
   "source": [
    "## checking membership"
   ]
  },
  {
   "cell_type": "code",
   "execution_count": 142,
   "id": "fe4624bc",
   "metadata": {},
   "outputs": [
    {
     "name": "stdout",
     "output_type": "stream",
     "text": [
      "['Tom', 'Jerry', 'Bunny']\n"
     ]
    }
   ],
   "source": [
    "if 'Tom' in names:\n",
    "    print(names)"
   ]
  },
  {
   "cell_type": "code",
   "execution_count": 148,
   "id": "74b00487",
   "metadata": {},
   "outputs": [
    {
     "name": "stdout",
     "output_type": "stream",
     "text": [
      "I am there\n",
      "{1: 'Newton', 2: 'Bhor', 3: 'Benjamin', 4: [2, 4, 6, 8], 5: ('a', 'b', 'c'), 6: {'id': 1001, 'name': 'Tom', 'job': 'warden'}}\n"
     ]
    }
   ],
   "source": [
    "if 1 in my_dict:\n",
    "    print(\"I am there\")\n",
    "    print(my_dit)"
   ]
  },
  {
   "cell_type": "code",
   "execution_count": 152,
   "id": "7e343dc2",
   "metadata": {},
   "outputs": [
    {
     "name": "stdout",
     "output_type": "stream",
     "text": [
      "I am there\n",
      "{1: 'Newton', 2: 'Bhor', 3: 'Benjamin', 4: [2, 4, 6, 8], 5: ('a', 'b', 'c'), 6: {'id': 1001, 'name': 'Tom', 'job': 'warden'}}\n"
     ]
    }
   ],
   "source": [
    "if  'Newton' in my_dict.values():\n",
    "    print(\"I am there\")\n",
    "    print(my_dict)"
   ]
  },
  {
   "cell_type": "code",
   "execution_count": 149,
   "id": "edfa47bc",
   "metadata": {},
   "outputs": [],
   "source": [
    "my_hero = \"Tom Cat\""
   ]
  },
  {
   "cell_type": "code",
   "execution_count": 150,
   "id": "1156ac0c",
   "metadata": {},
   "outputs": [
    {
     "name": "stdout",
     "output_type": "stream",
     "text": [
      "Tom Cat\n"
     ]
    }
   ],
   "source": [
    "if 'T' in my_hero:\n",
    "    print(my_hero)"
   ]
  },
  {
   "cell_type": "code",
   "execution_count": 154,
   "id": "4765407a",
   "metadata": {},
   "outputs": [
    {
     "name": "stdout",
     "output_type": "stream",
     "text": [
      "{'id': 1001, 'name': 'Tom', 'job': 'warden'}\n"
     ]
    }
   ],
   "source": [
    "len(d1)\n",
    "print(d1)"
   ]
  },
  {
   "cell_type": "code",
   "execution_count": 155,
   "id": "8047a9fd",
   "metadata": {},
   "outputs": [
    {
     "data": {
      "text/plain": [
       "{'id': 1002, 'name': 'Jerry', 'job': 'Troublemaker'}"
      ]
     },
     "execution_count": 155,
     "metadata": {},
     "output_type": "execute_result"
    }
   ],
   "source": [
    "d2"
   ]
  },
  {
   "cell_type": "code",
   "execution_count": 156,
   "id": "1f47a3da",
   "metadata": {},
   "outputs": [],
   "source": [
    "d2.clear()"
   ]
  },
  {
   "cell_type": "code",
   "execution_count": 158,
   "id": "f5525e71",
   "metadata": {},
   "outputs": [
    {
     "data": {
      "text/plain": [
       "False"
      ]
     },
     "execution_count": 158,
     "metadata": {},
     "output_type": "execute_result"
    }
   ],
   "source": [
    "any(d2)"
   ]
  },
  {
   "cell_type": "code",
   "execution_count": 161,
   "id": "21b22604",
   "metadata": {},
   "outputs": [
    {
     "data": {
      "text/plain": [
       "False"
      ]
     },
     "execution_count": 161,
     "metadata": {},
     "output_type": "execute_result"
    }
   ],
   "source": [
    "any(jobs)\n",
    "jobs.clear()\n",
    "any(jobs)"
   ]
  },
  {
   "cell_type": "markdown",
   "id": "a9534371",
   "metadata": {},
   "source": [
    "## Functions"
   ]
  },
  {
   "cell_type": "code",
   "execution_count": 162,
   "id": "f2e12a69",
   "metadata": {},
   "outputs": [],
   "source": [
    "def function_name(parameter):\n",
    "    result = 'statements'\n",
    "    return result"
   ]
  },
  {
   "cell_type": "code",
   "execution_count": 195,
   "id": "fb868458",
   "metadata": {},
   "outputs": [],
   "source": [
    "def add(a, b):\n",
    "    return a + b"
   ]
  },
  {
   "cell_type": "code",
   "execution_count": 196,
   "id": "5a57e758",
   "metadata": {},
   "outputs": [
    {
     "data": {
      "text/plain": [
       "7"
      ]
     },
     "execution_count": 196,
     "metadata": {},
     "output_type": "execute_result"
    }
   ],
   "source": [
    "x = add(3, 4)\n",
    "x"
   ]
  },
  {
   "cell_type": "code",
   "execution_count": 197,
   "id": "68dc297c",
   "metadata": {},
   "outputs": [],
   "source": [
    "# default parameters\n",
    "def graph(x, a=0.78, c=0.5):\n",
    "    y = x ** 2 + (4 * a * c) -7\n",
    "    return y"
   ]
  },
  {
   "cell_type": "code",
   "execution_count": 176,
   "id": "193d07f8",
   "metadata": {},
   "outputs": [],
   "source": [
    "def echo():\n",
    "    print(\"Hello Hello\")"
   ]
  },
  {
   "cell_type": "code",
   "execution_count": 177,
   "id": "57d586f3",
   "metadata": {},
   "outputs": [
    {
     "name": "stdout",
     "output_type": "stream",
     "text": [
      "Hello Hello\n"
     ]
    }
   ],
   "source": [
    "echo()"
   ]
  },
  {
   "cell_type": "code",
   "execution_count": null,
   "id": "f8f714b6",
   "metadata": {},
   "outputs": [],
   "source": []
  },
  {
   "cell_type": "code",
   "execution_count": 166,
   "id": "70764d66",
   "metadata": {},
   "outputs": [
    {
     "name": "stdout",
     "output_type": "stream",
     "text": [
      "9\n"
     ]
    }
   ],
   "source": [
    "add(3, 6)"
   ]
  },
  {
   "cell_type": "code",
   "execution_count": 167,
   "id": "4ccae67f",
   "metadata": {},
   "outputs": [
    {
     "name": "stdout",
     "output_type": "stream",
     "text": [
      "14423\n"
     ]
    }
   ],
   "source": [
    "add(7880, 6543)"
   ]
  },
  {
   "cell_type": "code",
   "execution_count": 170,
   "id": "44c71993",
   "metadata": {},
   "outputs": [],
   "source": [
    "a = 0.8\n",
    "c = 2 * (22/7)\n",
    "x_points = [0.0, 0.4, 0.7, 1.5, 3.2, 5.1]\n",
    "y_points = [ ]"
   ]
  },
  {
   "cell_type": "code",
   "execution_count": 171,
   "id": "b0b04f67",
   "metadata": {},
   "outputs": [],
   "source": [
    "for p in x_points:\n",
    "    g = graph(p, a, c)\n",
    "    y_points.append(g)"
   ]
  },
  {
   "cell_type": "code",
   "execution_count": 175,
   "id": "3ac922ac",
   "metadata": {},
   "outputs": [
    {
     "name": "stdout",
     "output_type": "stream",
     "text": [
      "13.11\n",
      "13.27\n",
      "13.60\n",
      "15.36\n",
      "23.35\n",
      "39.12\n"
     ]
    }
   ],
   "source": [
    "for y in y_points:\n",
    "    print(\"%.2f\" % y)"
   ]
  },
  {
   "cell_type": "code",
   "execution_count": 180,
   "id": "478df1a9",
   "metadata": {},
   "outputs": [],
   "source": [
    "for p in x_points:\n",
    "    g = graph(p, a)\n",
    "    y_points.append(g)"
   ]
  },
  {
   "cell_type": "code",
   "execution_count": 181,
   "id": "0f955fb8",
   "metadata": {},
   "outputs": [
    {
     "name": "stdout",
     "output_type": "stream",
     "text": [
      "13.11\n",
      "13.27\n",
      "13.60\n",
      "15.36\n",
      "23.35\n",
      "39.12\n",
      "-5.40\n",
      "-5.24\n",
      "-4.91\n",
      "-3.15\n",
      "4.84\n",
      "20.61\n"
     ]
    }
   ],
   "source": [
    "for y in y_points:\n",
    "    print(\"%.2f\" % y)"
   ]
  },
  {
   "cell_type": "code",
   "execution_count": 182,
   "id": "cd0bec62",
   "metadata": {},
   "outputs": [],
   "source": [
    "y_points.clear() \n",
    "for p in x_points:\n",
    "    g = graph(p, a, c)\n",
    "    y_points.append(g)"
   ]
  },
  {
   "cell_type": "code",
   "execution_count": 183,
   "id": "16071874",
   "metadata": {},
   "outputs": [
    {
     "data": {
      "text/plain": [
       "[13.114285714285714,\n",
       " 13.274285714285714,\n",
       " 13.604285714285712,\n",
       " 15.364285714285714,\n",
       " 23.354285714285716,\n",
       " 39.12428571428571]"
      ]
     },
     "execution_count": 183,
     "metadata": {},
     "output_type": "execute_result"
    }
   ],
   "source": [
    "y_points"
   ]
  },
  {
   "cell_type": "code",
   "execution_count": 184,
   "id": "c6bbf984",
   "metadata": {},
   "outputs": [],
   "source": [
    "y_points.clear() \n",
    "for p in x_points:\n",
    "    g = graph(p, a)\n",
    "    y_points.append(g)"
   ]
  },
  {
   "cell_type": "code",
   "execution_count": 185,
   "id": "6e8b935c",
   "metadata": {},
   "outputs": [
    {
     "data": {
      "text/plain": [
       "[-5.4, -5.24, -4.91, -3.15, 4.840000000000002, 20.61]"
      ]
     },
     "execution_count": 185,
     "metadata": {},
     "output_type": "execute_result"
    }
   ],
   "source": [
    "y_points"
   ]
  },
  {
   "cell_type": "markdown",
   "id": "b5ccfe59",
   "metadata": {},
   "source": [
    "## scope"
   ]
  },
  {
   "cell_type": "code",
   "execution_count": 212,
   "id": "8019a40c",
   "metadata": {},
   "outputs": [
    {
     "name": "stdout",
     "output_type": "stream",
     "text": [
      "Print x from within magic function:\t 8.7\n",
      "Print x from within magic function:\t 999\n"
     ]
    }
   ],
   "source": [
    "x = 999\n",
    "\n",
    "def magic():\n",
    "    x = 8.7\n",
    "    print(\"Print x from within magic function:\\t\", x)\n",
    "    \n",
    "magic()\n",
    "print(\"Print x from within magic function:\\t\", x)"
   ]
  },
  {
   "cell_type": "code",
   "execution_count": 210,
   "id": "4004ff2a",
   "metadata": {},
   "outputs": [
    {
     "name": "stdout",
     "output_type": "stream",
     "text": [
      "Print x from within magic function:\t 999\n"
     ]
    }
   ],
   "source": [
    "magic(x)"
   ]
  },
  {
   "cell_type": "code",
   "execution_count": null,
   "id": "88a883cd",
   "metadata": {},
   "outputs": [],
   "source": []
  }
 ],
 "metadata": {
  "kernelspec": {
   "display_name": "Python 3",
   "language": "python",
   "name": "python3"
  },
  "language_info": {
   "codemirror_mode": {
    "name": "ipython",
    "version": 3
   },
   "file_extension": ".py",
   "mimetype": "text/x-python",
   "name": "python",
   "nbconvert_exporter": "python",
   "pygments_lexer": "ipython3",
   "version": "3.8.10"
  }
 },
 "nbformat": 4,
 "nbformat_minor": 5
}
